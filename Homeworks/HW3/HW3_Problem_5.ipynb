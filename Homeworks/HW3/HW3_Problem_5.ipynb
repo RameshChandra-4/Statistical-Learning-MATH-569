{
  "nbformat": 4,
  "nbformat_minor": 0,
  "metadata": {
    "colab": {
      "provenance": []
    },
    "kernelspec": {
      "name": "python3",
      "display_name": "Python 3"
    },
    "language_info": {
      "name": "python"
    }
  },
  "cells": [
    {
      "cell_type": "code",
      "execution_count": 6,
      "metadata": {
        "colab": {
          "base_uri": "https://localhost:8080/"
        },
        "id": "f7iYNOVuZVhS",
        "outputId": "4cf3a0ed-5ba0-46b6-a831-be186187c7c8"
      },
      "outputs": [
        {
          "output_type": "stream",
          "name": "stdout",
          "text": [
            "Linear regression accuracy:  64.6 %\n"
          ]
        },
        {
          "output_type": "stream",
          "name": "stderr",
          "text": [
            "<ipython-input-6-e81afa5b9c85>:12: FutureWarning: elementwise comparison failed; returning scalar instead, but in the future will perform elementwise comparison\n",
            "  y[y == 'a'] = 1\n",
            "<ipython-input-6-e81afa5b9c85>:13: FutureWarning: elementwise comparison failed; returning scalar instead, but in the future will perform elementwise comparison\n",
            "  y[y == 'e'] = 2\n",
            "<ipython-input-6-e81afa5b9c85>:14: FutureWarning: elementwise comparison failed; returning scalar instead, but in the future will perform elementwise comparison\n",
            "  y[y == 'i'] = 3\n",
            "<ipython-input-6-e81afa5b9c85>:15: FutureWarning: elementwise comparison failed; returning scalar instead, but in the future will perform elementwise comparison\n",
            "  y[y == 'o'] = 4\n",
            "<ipython-input-6-e81afa5b9c85>:16: FutureWarning: elementwise comparison failed; returning scalar instead, but in the future will perform elementwise comparison\n",
            "  y[y == 'u'] = 5\n"
          ]
        }
      ],
      "source": [
        "import numpy as np\n",
        "import pandas as pd\n",
        "\n",
        "url = '/content/voweldata'\n",
        "\n",
        "# Load the data\n",
        "df = pd.read_csv(url, index_col=0)\n",
        "X = df.values[:, :-1]\n",
        "y = df.values[:, -1]\n",
        "\n",
        "# Assign numerical values to the vowel classes\n",
        "y[y == 'a'] = 1\n",
        "y[y == 'e'] = 2\n",
        "y[y == 'i'] = 3\n",
        "y[y == 'o'] = 4\n",
        "y[y == 'u'] = 5\n",
        "y = y.astype(int)\n",
        "\n",
        "# Split the data into training and testing sets\n",
        "from sklearn.model_selection import train_test_split\n",
        "X_train, X_test, y_train, y_test = train_test_split(X, y, test_size=0.2, random_state=42)\n",
        "\n",
        "# Fit linear regression model\n",
        "from sklearn.linear_model import LinearRegression\n",
        "lr = LinearRegression()\n",
        "lr.fit(X_train, y_train)\n",
        "\n",
        "# Predict the vowel class for the test set\n",
        "y_pred = lr.predict(X_test)\n",
        "y_pred = np.round(y_pred).astype(int)\n",
        "\n",
        "# Calculate accuracy\n",
        "from sklearn.metrics import accuracy_score\n",
        "acc = accuracy_score(y_test, y_pred)\n",
        "print('Linear regression accuracy: ',round(round(acc,3)*100,3),'%')\n"
      ]
    }
  ]
}